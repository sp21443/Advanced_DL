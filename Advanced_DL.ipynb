{
 "cells": [
  {
   "cell_type": "code",
   "execution_count": 25,
   "metadata": {
    "id": "LXCd4BCYIwVK"
   },
   "outputs": [],
   "source": [
    "import numpy as np\n",
    "import matplotlib.pyplot as plt\n",
    "import tensorflow as tf\n",
    "from tensorflow import keras\n",
    "from keras import layers, models\n",
    "from keras.callbacks import EarlyStopping, ModelCheckpoint\n",
    "# VGG 16\n",
    "from tensorflow.keras.applications import VGG16"
   ]
  },
  {
   "cell_type": "code",
   "execution_count": 2,
   "metadata": {
    "colab": {
     "base_uri": "https://localhost:8080/"
    },
    "id": "RAZzD2P_I3ln",
    "outputId": "db4f7fa4-dfc9-4fa6-debd-93176b5a69b0"
   },
   "outputs": [
    {
     "name": "stdout",
     "output_type": "stream",
     "text": [
      "Downloading data from https://www.cs.toronto.edu/~kriz/cifar-10-python.tar.gz\n",
      "170500096/170498071 [==============================] - 90s 1us/step\n",
      "170508288/170498071 [==============================] - 91s 1us/step\n",
      "Train: X=(50000, 32, 32, 3), y=(50000, 1)\n",
      "Test: X=(10000, 32, 32, 3), y=(10000, 1)\n",
      "Number of classes=10\n"
     ]
    }
   ],
   "source": [
    "dataset = tf.keras.datasets.cifar10\n",
    "class_names = ['airplane', 'automobile', 'bird', 'cat', 'deer','dog', 'frog', 'horse', 'ship', 'truck']\n",
    "\n",
    "(train_images0, train_labels0), (test_images0, test_labels0) = dataset.load_data()\n",
    "\n",
    "print('Train: X=%s, y=%s' % (train_images0.shape, train_labels0.shape))\n",
    "print('Test: X=%s, y=%s' % (test_images0.shape, test_labels0.shape))\n",
    "\n",
    "train_labels = train_labels0.reshape(-1)\n",
    "test_labels = test_labels0.reshape(-1)\n",
    "\n",
    "num_classification_categories = len(class_names)\n",
    "print('Number of classes=%d' % num_classification_categories)"
   ]
  },
  {
   "cell_type": "code",
   "execution_count": 3,
   "metadata": {
    "colab": {
     "base_uri": "https://localhost:8080/"
    },
    "id": "7fmICmFOI_v6",
    "outputId": "66b424c0-c4fe-47f7-ef3a-7ce4f7703d21"
   },
   "outputs": [
    {
     "name": "stdout",
     "output_type": "stream",
     "text": [
      "(50000, 32, 32, 3) (10000, 32, 32, 3)\n"
     ]
    }
   ],
   "source": [
    "train_images = tf.keras.applications.vgg19.preprocess_input(train_images0)\n",
    "test_images = tf.keras.applications.vgg19.preprocess_input(test_images0)\n",
    "\n",
    "print(train_images.shape, test_images.shape)\n",
    "\n",
    "input_shape = train_images.shape[1:]"
   ]
  },
  {
   "cell_type": "code",
   "execution_count": 4,
   "metadata": {
    "colab": {
     "base_uri": "https://localhost:8080/"
    },
    "id": "CjFONQlNJOkl",
    "outputId": "0a5a5f31-1590-4507-bead-856249d895d4"
   },
   "outputs": [
    {
     "name": "stdout",
     "output_type": "stream",
     "text": [
      "Metal device set to: Apple M1\n"
     ]
    },
    {
     "name": "stderr",
     "output_type": "stream",
     "text": [
      "2022-04-01 14:03:34.680509: I tensorflow/core/common_runtime/pluggable_device/pluggable_device_factory.cc:305] Could not identify NUMA node of platform GPU ID 0, defaulting to 0. Your kernel may not have been built with NUMA support.\n",
      "2022-04-01 14:03:34.680658: I tensorflow/core/common_runtime/pluggable_device/pluggable_device_factory.cc:271] Created TensorFlow device (/job:localhost/replica:0/task:0/device:GPU:0 with 0 MB memory) -> physical PluggableDevice (device: 0, name: METAL, pci bus id: <undefined>)\n"
     ]
    },
    {
     "name": "stdout",
     "output_type": "stream",
     "text": [
      "Model: \"vgg16\"\n",
      "_________________________________________________________________\n",
      " Layer (type)                Output Shape              Param #   \n",
      "=================================================================\n",
      " input_1 (InputLayer)        [(None, 32, 32, 3)]       0         \n",
      "                                                                 \n",
      " block1_conv1 (Conv2D)       (None, 32, 32, 64)        1792      \n",
      "                                                                 \n",
      " block1_conv2 (Conv2D)       (None, 32, 32, 64)        36928     \n",
      "                                                                 \n",
      " block1_pool (MaxPooling2D)  (None, 16, 16, 64)        0         \n",
      "                                                                 \n",
      " block2_conv1 (Conv2D)       (None, 16, 16, 128)       73856     \n",
      "                                                                 \n",
      " block2_conv2 (Conv2D)       (None, 16, 16, 128)       147584    \n",
      "                                                                 \n",
      " block2_pool (MaxPooling2D)  (None, 8, 8, 128)         0         \n",
      "                                                                 \n",
      " block3_conv1 (Conv2D)       (None, 8, 8, 256)         295168    \n",
      "                                                                 \n",
      " block3_conv2 (Conv2D)       (None, 8, 8, 256)         590080    \n",
      "                                                                 \n",
      " block3_conv3 (Conv2D)       (None, 8, 8, 256)         590080    \n",
      "                                                                 \n",
      " block3_pool (MaxPooling2D)  (None, 4, 4, 256)         0         \n",
      "                                                                 \n",
      " block4_conv1 (Conv2D)       (None, 4, 4, 512)         1180160   \n",
      "                                                                 \n",
      " block4_conv2 (Conv2D)       (None, 4, 4, 512)         2359808   \n",
      "                                                                 \n",
      " block4_conv3 (Conv2D)       (None, 4, 4, 512)         2359808   \n",
      "                                                                 \n",
      " block4_pool (MaxPooling2D)  (None, 2, 2, 512)         0         \n",
      "                                                                 \n",
      " block5_conv1 (Conv2D)       (None, 2, 2, 512)         2359808   \n",
      "                                                                 \n",
      " block5_conv2 (Conv2D)       (None, 2, 2, 512)         2359808   \n",
      "                                                                 \n",
      " block5_conv3 (Conv2D)       (None, 2, 2, 512)         2359808   \n",
      "                                                                 \n",
      " block5_pool (MaxPooling2D)  (None, 1, 1, 512)         0         \n",
      "                                                                 \n",
      "=================================================================\n",
      "Total params: 14,714,688\n",
      "Trainable params: 14,714,688\n",
      "Non-trainable params: 0\n",
      "_________________________________________________________________\n"
     ]
    }
   ],
   "source": [
    "input = layers.Input(shape=input_shape)\n",
    "model_ = VGG16(weights='imagenet', include_top=False, input_tensor=input)\n",
    "# include_top=False means that we exclude the last (top) layers \n",
    "# (which are responsible for classifying ImageNET)\n",
    "# So we're only loading the convolutional part of the network (see summary below)\n",
    "model_.summary()"
   ]
  },
  {
   "cell_type": "code",
   "execution_count": 5,
   "metadata": {
    "id": "hpqkm6_oJeWO"
   },
   "outputs": [],
   "source": [
    "for layer in model_.layers: \n",
    "  layer.trainable = False\n",
    "\n",
    "# Use the generated model \n",
    "last_layer = model_.output  # these are the features!"
   ]
  },
  {
   "cell_type": "code",
   "execution_count": 6,
   "metadata": {
    "colab": {
     "base_uri": "https://localhost:8080/"
    },
    "id": "ZEgHvWDRJgC1",
    "outputId": "97d447ab-d8ed-4c77-f8d7-32b95118e4d0"
   },
   "outputs": [
    {
     "name": "stdout",
     "output_type": "stream",
     "text": [
      "Model: \"model\"\n",
      "_________________________________________________________________\n",
      " Layer (type)                Output Shape              Param #   \n",
      "=================================================================\n",
      " input_1 (InputLayer)        [(None, 32, 32, 3)]       0         \n",
      "                                                                 \n",
      " block1_conv1 (Conv2D)       (None, 32, 32, 64)        1792      \n",
      "                                                                 \n",
      " block1_conv2 (Conv2D)       (None, 32, 32, 64)        36928     \n",
      "                                                                 \n",
      " block1_pool (MaxPooling2D)  (None, 16, 16, 64)        0         \n",
      "                                                                 \n",
      " block2_conv1 (Conv2D)       (None, 16, 16, 128)       73856     \n",
      "                                                                 \n",
      " block2_conv2 (Conv2D)       (None, 16, 16, 128)       147584    \n",
      "                                                                 \n",
      " block2_pool (MaxPooling2D)  (None, 8, 8, 128)         0         \n",
      "                                                                 \n",
      " block3_conv1 (Conv2D)       (None, 8, 8, 256)         295168    \n",
      "                                                                 \n",
      " block3_conv2 (Conv2D)       (None, 8, 8, 256)         590080    \n",
      "                                                                 \n",
      " block3_conv3 (Conv2D)       (None, 8, 8, 256)         590080    \n",
      "                                                                 \n",
      " block3_pool (MaxPooling2D)  (None, 4, 4, 256)         0         \n",
      "                                                                 \n",
      " block4_conv1 (Conv2D)       (None, 4, 4, 512)         1180160   \n",
      "                                                                 \n",
      " block4_conv2 (Conv2D)       (None, 4, 4, 512)         2359808   \n",
      "                                                                 \n",
      " block4_conv3 (Conv2D)       (None, 4, 4, 512)         2359808   \n",
      "                                                                 \n",
      " block4_pool (MaxPooling2D)  (None, 2, 2, 512)         0         \n",
      "                                                                 \n",
      " block5_conv1 (Conv2D)       (None, 2, 2, 512)         2359808   \n",
      "                                                                 \n",
      " block5_conv2 (Conv2D)       (None, 2, 2, 512)         2359808   \n",
      "                                                                 \n",
      " block5_conv3 (Conv2D)       (None, 2, 2, 512)         2359808   \n",
      "                                                                 \n",
      " block5_pool (MaxPooling2D)  (None, 1, 1, 512)         0         \n",
      "                                                                 \n",
      " flatten (Flatten)           (None, 512)               0         \n",
      "                                                                 \n",
      " fc1 (Dense)                 (None, 256)               131328    \n",
      "                                                                 \n",
      " dropout (Dropout)           (None, 256)               0         \n",
      "                                                                 \n",
      " fc2 (Dense)                 (None, 128)               32896     \n",
      "                                                                 \n",
      " dense (Dense)               (None, 10)                1290      \n",
      "                                                                 \n",
      "=================================================================\n",
      "Total params: 14,880,202\n",
      "Trainable params: 165,514\n",
      "Non-trainable params: 14,714,688\n",
      "_________________________________________________________________\n"
     ]
    }
   ],
   "source": [
    "# Now we are going to add the fully connected layers onto the model.\n",
    "x = layers.Flatten()(last_layer)\n",
    "\n",
    "# Add fully-connected layers for classification (remember that we need to flatten the features first)\n",
    "# TO DO: THIS IS OUR CLASSIFIER. WITH THE CONFIGURATION I'M GIVING YOU, YOUR MODEL WILL OVERFIT TERRIBLY. YOUR JOB IS TO EDIT THESE LAYERS SO THAT THE VALIDATION ACCURACY IS >0.65 AND THERE'S NO OVERFITTING\n",
    "# HINTS: add a Dropout layer between 'fc1' and 'fc2' and reduce the number of neurons in  'fc1'.\n",
    "# ----- beginning of classifier\n",
    "x = layers.Dense(256, activation='relu', name='fc1')(x)\n",
    "x = layers.Dropout(0.2)(x)\n",
    "x = layers.Dense(128, activation='relu', name='fc2')(x)\n",
    "# ----- end of classifier\n",
    "\n",
    "prediction = layers.Dense(num_classification_categories, activation='softmax')(x)\n",
    "\n",
    "# What does the model look like now?\n",
    "model = models.Model(inputs=input, outputs=prediction)\n",
    "model.summary()  # TO DO:  you will need this for the Moodle quiz"
   ]
  },
  {
   "cell_type": "code",
   "execution_count": 7,
   "metadata": {
    "colab": {
     "base_uri": "https://localhost:8080/"
    },
    "id": "TTejmh3KJiyE",
    "outputId": "b0334ceb-698f-4331-e73a-51963b818997"
   },
   "outputs": [
    {
     "name": "stderr",
     "output_type": "stream",
     "text": [
      "2022-04-01 14:03:36.645106: W tensorflow/core/platform/profile_utils/cpu_utils.cc:128] Failed to get CPU frequency: 0 Hz\n"
     ]
    },
    {
     "name": "stdout",
     "output_type": "stream",
     "text": [
      "Epoch 1/5\n"
     ]
    },
    {
     "name": "stderr",
     "output_type": "stream",
     "text": [
      "2022-04-01 14:03:36.923098: I tensorflow/core/grappler/optimizers/custom_graph_optimizer_registry.cc:112] Plugin optimizer for device_type GPU is enabled.\n"
     ]
    },
    {
     "name": "stdout",
     "output_type": "stream",
     "text": [
      "391/391 [==============================] - ETA: 0s - loss: 1.9159 - accuracy: 0.4939"
     ]
    },
    {
     "name": "stderr",
     "output_type": "stream",
     "text": [
      "2022-04-01 14:03:59.384637: I tensorflow/core/grappler/optimizers/custom_graph_optimizer_registry.cc:112] Plugin optimizer for device_type GPU is enabled.\n"
     ]
    },
    {
     "name": "stdout",
     "output_type": "stream",
     "text": [
      "391/391 [==============================] - 27s 60ms/step - loss: 1.9159 - accuracy: 0.4939 - val_loss: 1.1660 - val_accuracy: 0.5923\n",
      "Epoch 2/5\n",
      "391/391 [==============================] - 23s 58ms/step - loss: 1.1145 - accuracy: 0.6160 - val_loss: 1.0528 - val_accuracy: 0.6351\n",
      "Epoch 3/5\n",
      "391/391 [==============================] - 24s 62ms/step - loss: 0.9905 - accuracy: 0.6522 - val_loss: 1.0170 - val_accuracy: 0.6524\n",
      "Epoch 4/5\n",
      "391/391 [==============================] - 24s 62ms/step - loss: 0.9053 - accuracy: 0.6832 - val_loss: 0.9935 - val_accuracy: 0.6602\n",
      "Epoch 5/5\n",
      "391/391 [==============================] - 24s 63ms/step - loss: 0.8418 - accuracy: 0.7042 - val_loss: 0.9871 - val_accuracy: 0.6625\n"
     ]
    }
   ],
   "source": [
    "model.compile(loss=keras.losses.SparseCategoricalCrossentropy(), \n",
    "                 optimizer=keras.optimizers.Adam(), \n",
    "                 metrics=['accuracy'])\n",
    "\n",
    "my_callbacks = [ModelCheckpoint(filepath='vgg16_model_featureExtraction.h5', save_best_only=True)]  # DON'T CHANGE THIS LINE\n",
    "\n",
    "# You can change the number of epochs, batch_size...\n",
    "history = model.fit(train_images, train_labels, batch_size=128,\n",
    "                       epochs=5,\n",
    "                       validation_data=(test_images, test_labels),\n",
    "                       callbacks=my_callbacks)\n",
    "np.save('history_featureExtraction.npy', [history.history['accuracy'], history.history['val_accuracy']])  # DON'T CHANGE THIS LINE; you'll need this for the Moodle quiz"
   ]
  },
  {
   "cell_type": "code",
   "execution_count": 31,
   "metadata": {
    "id": "3-z06OrTKot9"
   },
   "outputs": [],
   "source": [
    "# We specify the shape of our inputs\n",
    "input = layers.Input(shape=input_shape)\n",
    "\n",
    "# Load VGG16 again\n",
    "model_ = VGG16(weights='imagenet', include_top=False, input_tensor=input)\n",
    "#print(model_.summary())"
   ]
  },
  {
   "cell_type": "code",
   "execution_count": 32,
   "metadata": {},
   "outputs": [
    {
     "name": "stdout",
     "output_type": "stream",
     "text": [
      "Model: \"model_5\"\n",
      "_________________________________________________________________\n",
      " Layer (type)                Output Shape              Param #   \n",
      "=================================================================\n",
      " input_4 (InputLayer)        [(None, 32, 32, 3)]       0         \n",
      "                                                                 \n",
      " block1_conv1 (Conv2D)       (None, 32, 32, 64)        1792      \n",
      "                                                                 \n",
      " block1_conv2 (Conv2D)       (None, 32, 32, 64)        36928     \n",
      "                                                                 \n",
      " block1_pool (MaxPooling2D)  (None, 16, 16, 64)        0         \n",
      "                                                                 \n",
      " block2_conv1 (Conv2D)       (None, 16, 16, 128)       73856     \n",
      "                                                                 \n",
      " block2_conv2 (Conv2D)       (None, 16, 16, 128)       147584    \n",
      "                                                                 \n",
      " block2_pool (MaxPooling2D)  (None, 8, 8, 128)         0         \n",
      "                                                                 \n",
      " block3_conv1 (Conv2D)       (None, 8, 8, 256)         295168    \n",
      "                                                                 \n",
      " block3_conv2 (Conv2D)       (None, 8, 8, 256)         590080    \n",
      "                                                                 \n",
      " block3_conv3 (Conv2D)       (None, 8, 8, 256)         590080    \n",
      "                                                                 \n",
      " block3_pool (MaxPooling2D)  (None, 4, 4, 256)         0         \n",
      "                                                                 \n",
      " block4_conv1 (Conv2D)       (None, 4, 4, 512)         1180160   \n",
      "                                                                 \n",
      " block4_conv2 (Conv2D)       (None, 4, 4, 512)         2359808   \n",
      "                                                                 \n",
      " block4_conv3 (Conv2D)       (None, 4, 4, 512)         2359808   \n",
      "                                                                 \n",
      " block4_pool (MaxPooling2D)  (None, 2, 2, 512)         0         \n",
      "                                                                 \n",
      " block5_conv1 (Conv2D)       (None, 2, 2, 512)         2359808   \n",
      "                                                                 \n",
      " block5_conv2 (Conv2D)       (None, 2, 2, 512)         2359808   \n",
      "                                                                 \n",
      " block5_conv3 (Conv2D)       (None, 2, 2, 512)         2359808   \n",
      "                                                                 \n",
      " block5_pool (MaxPooling2D)  (None, 1, 1, 512)         0         \n",
      "                                                                 \n",
      " flatten_5 (Flatten)         (None, 512)               0         \n",
      "                                                                 \n",
      " fc1 (Dense)                 (None, 128)               65664     \n",
      "                                                                 \n",
      " dropout_8 (Dropout)         (None, 128)               0         \n",
      "                                                                 \n",
      " fc2 (Dense)                 (None, 64)                8256      \n",
      "                                                                 \n",
      " dense_5 (Dense)             (None, 10)                650       \n",
      "                                                                 \n",
      "=================================================================\n",
      "Total params: 14,789,258\n",
      "Trainable params: 14,789,258\n",
      "Non-trainable params: 0\n",
      "_________________________________________________________________\n",
      "None\n"
     ]
    }
   ],
   "source": [
    "# get last layer so we can add our classifier on top again\n",
    "last_layer = model_.output\n",
    "\n",
    "# Flatten\n",
    "x = layers.Flatten()(last_layer)\n",
    "\n",
    "# Add your classifier\n",
    "# ----- beginning of classifier\n",
    "# TO DO: COPY HERE THE CLASSIFIER CONFIGURATION THAT WORKED FOR YOU IN THE FEATURE EXTRACTION TASK\n",
    "x = layers.Dense(128, activation='relu', name='fc1')(x)\n",
    "x = layers.Dropout(0.2)(x)\n",
    "x = layers.Dense(64, activation='relu', name='fc2')(x)\n",
    "\n",
    "# ----- end of classifier\n",
    "\n",
    "prediction = layers.Dense(num_classification_categories, activation='softmax')(x)\n",
    "\n",
    "# Create model\n",
    "model = models.Model(input, prediction)\n",
    "\n",
    "\n",
    "\n",
    "print(model.summary())"
   ]
  },
  {
   "cell_type": "code",
   "execution_count": 33,
   "metadata": {},
   "outputs": [
    {
     "name": "stdout",
     "output_type": "stream",
     "text": [
      "input_4 False\n",
      "block1_conv1 False\n",
      "block1_conv2 False\n",
      "block1_pool False\n",
      "block2_conv1 False\n",
      "block2_conv2 False\n",
      "block2_pool False\n",
      "block3_conv1 False\n",
      "block3_conv2 False\n",
      "block3_conv3 False\n",
      "block3_pool False\n",
      "block4_conv1 False\n",
      "block4_conv2 False\n",
      "block4_conv3 False\n",
      "block4_pool False\n",
      "block5_conv1 False\n",
      "block5_conv2 False\n",
      "block5_conv3 False\n",
      "block5_pool False\n",
      "flatten_5 True\n",
      "fc1 True\n",
      "dropout_8 True\n",
      "fc2 True\n",
      "dense_5 True\n"
     ]
    }
   ],
   "source": [
    "# We first need to freeze all the layers except for our classifier (as we did for the feature extraction approach)\n",
    "\n",
    "# Choose the layers which are updated while training\n",
    "LAYERS_TO_FREEZE = len(model_.layers)  # DON'T CHANGE THIS\n",
    "for layer in model.layers[:LAYERS_TO_FREEZE]:\n",
    "\tlayer.trainable = False\n",
    "for layer in model.layers[LAYERS_TO_FREEZE:]:\n",
    "  layer.trainable = True\n",
    "\n",
    "for i, layer in enumerate(model.layers):\n",
    "  print(layer.name, layer.trainable)"
   ]
  },
  {
   "cell_type": "code",
   "execution_count": 39,
   "metadata": {},
   "outputs": [
    {
     "name": "stdout",
     "output_type": "stream",
     "text": [
      "Epoch 1/10\n"
     ]
    },
    {
     "name": "stderr",
     "output_type": "stream",
     "text": [
      "2022-04-01 15:22:22.246508: I tensorflow/core/grappler/optimizers/custom_graph_optimizer_registry.cc:112] Plugin optimizer for device_type GPU is enabled.\n"
     ]
    },
    {
     "name": "stdout",
     "output_type": "stream",
     "text": [
      "782/782 [==============================] - ETA: 0s - loss: 1.5932 - accuracy: 0.4403"
     ]
    },
    {
     "name": "stderr",
     "output_type": "stream",
     "text": [
      "2022-04-01 15:22:42.391378: I tensorflow/core/grappler/optimizers/custom_graph_optimizer_registry.cc:112] Plugin optimizer for device_type GPU is enabled.\n"
     ]
    },
    {
     "name": "stdout",
     "output_type": "stream",
     "text": [
      "782/782 [==============================] - 22s 27ms/step - loss: 1.5932 - accuracy: 0.4403 - val_loss: 1.2296 - val_accuracy: 0.5681\n",
      "Epoch 2/10\n",
      "782/782 [==============================] - 21s 27ms/step - loss: 1.1977 - accuracy: 0.5725 - val_loss: 1.1024 - val_accuracy: 0.6211\n",
      "Epoch 3/10\n",
      "782/782 [==============================] - 21s 27ms/step - loss: 1.0370 - accuracy: 0.6333 - val_loss: 0.8989 - val_accuracy: 0.6820\n",
      "Epoch 4/10\n",
      "782/782 [==============================] - 21s 27ms/step - loss: 0.9398 - accuracy: 0.6704 - val_loss: 0.8225 - val_accuracy: 0.7118\n",
      "Epoch 5/10\n",
      "782/782 [==============================] - 21s 27ms/step - loss: 0.8678 - accuracy: 0.6988 - val_loss: 0.7585 - val_accuracy: 0.7341\n",
      "Epoch 6/10\n",
      "782/782 [==============================] - 21s 26ms/step - loss: 0.8078 - accuracy: 0.7200 - val_loss: 0.7275 - val_accuracy: 0.7455\n",
      "Epoch 7/10\n",
      "782/782 [==============================] - 21s 26ms/step - loss: 0.7667 - accuracy: 0.7332 - val_loss: 0.7065 - val_accuracy: 0.7553\n",
      "Epoch 8/10\n",
      "782/782 [==============================] - 21s 27ms/step - loss: 0.7247 - accuracy: 0.7468 - val_loss: 0.6720 - val_accuracy: 0.7679\n",
      "Epoch 9/10\n",
      "782/782 [==============================] - 21s 27ms/step - loss: 0.6958 - accuracy: 0.7574 - val_loss: 0.6961 - val_accuracy: 0.7662\n",
      "Epoch 10/10\n",
      "782/782 [==============================] - 21s 27ms/step - loss: 0.6669 - accuracy: 0.7707 - val_loss: 0.6920 - val_accuracy: 0.7719\n"
     ]
    }
   ],
   "source": [
    "cnn = models.Sequential([\n",
    "    layers.Conv2D(filters=64,\n",
    "          kernel_size=(3, 3),\n",
    "          activation='relu',\n",
    "          input_shape=(32, 32, 3)),\n",
    "    layers.BatchNormalization(),\n",
    "    layers.MaxPooling2D(pool_size=(2, 2)),\n",
    "    layers.Dropout(0.3),\n",
    "\n",
    "    layers.Conv2D(filters=128,\n",
    "          kernel_size=(3, 3),\n",
    "          activation='relu'),\n",
    "    layers.BatchNormalization(),\n",
    "    layers.MaxPooling2D(pool_size=(2, 2)),\n",
    "    layers.Dropout(0.3),\n",
    "\n",
    "    layers.Conv2D(filters=256,\n",
    "          kernel_size=(3, 3),\n",
    "          activation='relu'),\n",
    "    layers.BatchNormalization(),\n",
    "    layers.MaxPooling2D(pool_size=(2, 2)),\n",
    "    layers.Dropout(0.3),\n",
    "\n",
    "    layers.Flatten(),\n",
    "    layers.Dense(512, activation='relu'),\n",
    "    layers.Dropout(0.5),\n",
    "    layers.Dense(10, activation='softmax')\n",
    "])\n",
    "\n",
    "# Stop training when the monitored metric has stopped improving.\n",
    "early_stop = EarlyStopping(monitor='val_loss',\n",
    "                           mode='min',\n",
    "                           verbose=1,\n",
    "                           patience=10)\n",
    "\n",
    "cnn.compile(optimizer='adam',\n",
    "            loss='sparse_categorical_crossentropy',\n",
    "            metrics=['accuracy'])\n",
    "\n",
    "history = cnn.fit(train_images,\n",
    "                  train_labels,\n",
    "                  epochs=10,\n",
    "                  batch_size=64,\n",
    "                  callbacks=[early_stop],\n",
    "                  validation_data=(test_images, test_labels))\n",
    "\n",
    "np.save('history_fineTuning_1.npy', [history.history['accuracy'], history.history['val_accuracy']])  # don't change this line"
   ]
  },
  {
   "cell_type": "code",
   "execution_count": 40,
   "metadata": {},
   "outputs": [
    {
     "name": "stdout",
     "output_type": "stream",
     "text": [
      "Epoch 1/10\n",
      "782/782 [==============================] - 21s 27ms/step - loss: 0.6466 - accuracy: 0.7758 - val_loss: 0.6401 - val_accuracy: 0.7793\n",
      "Epoch 2/10\n",
      "782/782 [==============================] - 20s 26ms/step - loss: 0.6201 - accuracy: 0.7844 - val_loss: 0.6629 - val_accuracy: 0.7803\n",
      "Epoch 3/10\n",
      "782/782 [==============================] - 21s 26ms/step - loss: 0.5936 - accuracy: 0.7940 - val_loss: 0.6522 - val_accuracy: 0.7827\n",
      "Epoch 4/10\n",
      "782/782 [==============================] - 21s 26ms/step - loss: 0.5782 - accuracy: 0.8010 - val_loss: 0.6246 - val_accuracy: 0.7920\n",
      "Epoch 5/10\n",
      "782/782 [==============================] - 21s 27ms/step - loss: 0.5574 - accuracy: 0.8049 - val_loss: 0.6490 - val_accuracy: 0.7849\n",
      "Epoch 6/10\n",
      "782/782 [==============================] - 21s 26ms/step - loss: 0.5419 - accuracy: 0.8109 - val_loss: 0.6045 - val_accuracy: 0.8016\n",
      "Epoch 7/10\n",
      "782/782 [==============================] - 20s 26ms/step - loss: 0.5217 - accuracy: 0.8186 - val_loss: 0.6215 - val_accuracy: 0.7985\n",
      "Epoch 8/10\n",
      "782/782 [==============================] - 20s 26ms/step - loss: 0.5070 - accuracy: 0.8247 - val_loss: 0.6333 - val_accuracy: 0.7962\n",
      "Epoch 9/10\n",
      "782/782 [==============================] - 21s 26ms/step - loss: 0.4906 - accuracy: 0.8303 - val_loss: 0.6028 - val_accuracy: 0.8084\n",
      "Epoch 10/10\n",
      "782/782 [==============================] - 21s 26ms/step - loss: 0.4818 - accuracy: 0.8319 - val_loss: 0.6171 - val_accuracy: 0.8065\n"
     ]
    }
   ],
   "source": [
    "history = cnn.fit(train_images,\n",
    "                  train_labels,\n",
    "                  epochs=10,\n",
    "                  batch_size=64,\n",
    "                  callbacks=[early_stop],\n",
    "                  validation_data=(test_images, test_labels))\n",
    "\n",
    "np.save('history_fineTuning_2.npy', [history.history['accuracy'], history.history['val_accuracy']])  # don't change this line"
   ]
  },
  {
   "cell_type": "code",
   "execution_count": 34,
   "metadata": {
    "scrolled": true
   },
   "outputs": [
    {
     "name": "stdout",
     "output_type": "stream",
     "text": [
      "Epoch 1/5\n"
     ]
    },
    {
     "name": "stderr",
     "output_type": "stream",
     "text": [
      "2022-04-01 15:09:43.208819: I tensorflow/core/grappler/optimizers/custom_graph_optimizer_registry.cc:112] Plugin optimizer for device_type GPU is enabled.\n"
     ]
    },
    {
     "name": "stdout",
     "output_type": "stream",
     "text": [
      "3124/3125 [============================>.] - ETA: 0s - loss: 1.5281 - accuracy: 0.5220"
     ]
    },
    {
     "name": "stderr",
     "output_type": "stream",
     "text": [
      "2022-04-01 15:10:14.155012: I tensorflow/core/grappler/optimizers/custom_graph_optimizer_registry.cc:112] Plugin optimizer for device_type GPU is enabled.\n"
     ]
    },
    {
     "name": "stdout",
     "output_type": "stream",
     "text": [
      "3125/3125 [==============================] - 38s 12ms/step - loss: 1.5279 - accuracy: 0.5221 - val_loss: 1.1225 - val_accuracy: 0.6119\n",
      "Epoch 2/5\n",
      "3125/3125 [==============================] - 36s 11ms/step - loss: 1.0702 - accuracy: 0.6304 - val_loss: 1.0377 - val_accuracy: 0.6465\n",
      "Epoch 3/5\n",
      "3125/3125 [==============================] - 36s 12ms/step - loss: 0.9909 - accuracy: 0.6580 - val_loss: 1.0243 - val_accuracy: 0.6510\n",
      "Epoch 4/5\n",
      "3125/3125 [==============================] - 36s 12ms/step - loss: 0.9380 - accuracy: 0.6770 - val_loss: 1.0298 - val_accuracy: 0.6462\n",
      "Epoch 5/5\n",
      "3125/3125 [==============================] - 36s 12ms/step - loss: 0.8917 - accuracy: 0.6933 - val_loss: 1.0009 - val_accuracy: 0.6620\n"
     ]
    }
   ],
   "source": [
    "# Train the model (remember that for now we're only training the top layers -- i.e., the ones closest to the output, not the convolutional part!)\n",
    "\n",
    "# For this first part we train for a few epochs only\n",
    "\n",
    "cnn.compile(loss=keras.losses.SparseCategoricalCrossentropy(), \n",
    "              optimizer=keras.optimizers.Adam(),\n",
    "              metrics=['accuracy'])\n",
    "\n",
    "my_callbacks = [ModelCheckpoint(filepath='vgg16_model_fineTuning.h5', save_best_only=True)]  # don't change this line\n",
    "\n",
    "history = model.fit(train_images, train_labels, \n",
    "                    batch_size=16,\n",
    "                    epochs=5,  # this number should be small-ish\n",
    "                    validation_data=(test_images, test_labels),\n",
    "                    callbacks=my_callbacks)\n",
    "\n",
    "np.save('history_fineTuning_1.npy', [history.history['accuracy'], history.history['val_accuracy']])  # don't change this line"
   ]
  },
  {
   "cell_type": "code",
   "execution_count": 41,
   "metadata": {},
   "outputs": [
    {
     "data": {
      "text/plain": [
       "<matplotlib.legend.Legend at 0x2f4843fa0>"
      ]
     },
     "execution_count": 41,
     "metadata": {},
     "output_type": "execute_result"
    },
    {
     "data": {
      "image/png": "[encoded data removed]",
      "text/plain": [
       "<Figure size 432x288 with 1 Axes>"
      ]
     },
     "metadata": {
      "needs_background": "light"
     },
     "output_type": "display_data"
    }
   ],
   "source": [
    "# Have a look at the training graphs. \n",
    "# When your validation accuracy is >0.8, you can upload it to the Moodle quiz.\n",
    "\n",
    "epochs = range(1, len(history.history['accuracy']) + 1)\n",
    "plt.plot(epochs, history.history['accuracy'], label='train_accuracy')\n",
    "plt.plot(epochs, history.history['val_accuracy'], label = 'val_accuracy')\n",
    "plt.xlabel('Epoch')\n",
    "plt.ylabel('Accuracy')\n",
    "plt.xlim([1, None])\n",
    "plt.legend(loc='lower right')"
   ]
  },
  {
   "cell_type": "code",
   "execution_count": null,
   "metadata": {},
   "outputs": [],
   "source": []
  }
 ],
 "metadata": {
  "accelerator": "GPU",
  "colab": {
   "name": "Advanced DL.ipynb",
   "provenance": []
  },
  "kernelspec": {
   "display_name": "Python 3 (ipykernel)",
   "language": "python",
   "name": "python3"
  },
  "language_info": {
   "codemirror_mode": {
    "name": "ipython",
    "version": 3
   },
   "file_extension": ".py",
   "mimetype": "text/x-python",
   "name": "python",
   "nbconvert_exporter": "python",
   "pygments_lexer": "ipython3",
   "version": "3.8.12"
  }
 },
 "nbformat": 4,
 "nbformat_minor": 1
}
